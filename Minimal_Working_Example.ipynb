{
  "nbformat": 4,
  "nbformat_minor": 0,
  "metadata": {
    "colab": {
      "name": "Minimal_Working_Example.ipynb",
      "provenance": [],
      "authorship_tag": "ABX9TyM+vyGXt2fmLNJI4wEH9y87",
      "include_colab_link": true
    },
    "kernelspec": {
      "name": "python3",
      "display_name": "Python 3"
    },
    "language_info": {
      "name": "python"
    }
  },
  "cells": [
    {
      "cell_type": "markdown",
      "metadata": {
        "id": "view-in-github",
        "colab_type": "text"
      },
      "source": [
        "<a href=\"https://colab.research.google.com/github/saspy-bffs/wuss-2021-class/blob/Minimal_Working_Example/Minimal_Working_Example.ipynb\" target=\"_parent\"><img src=\"https://colab.research.google.com/assets/colab-badge.svg\" alt=\"Open In Colab\"/></a>"
      ]
    },
    {
      "cell_type": "markdown",
      "metadata": {
        "id": "J20HZNXFH8wi"
      },
      "source": [
        "### This installs the SASPy package. Good, we're going to need it!"
      ]
    },
    {
      "cell_type": "code",
      "metadata": {
        "id": "YC4I7D6oDGOb"
      },
      "source": [
        "!pip install saspy"
      ],
      "execution_count": null,
      "outputs": []
    },
    {
      "cell_type": "markdown",
      "metadata": {
        "id": "BtzCBId7INiB"
      },
      "source": [
        "### Now we need to connect to SAS OnDemand for Academics\n",
        "\n",
        "The code below assumes that your ODA account is running on the United States server instance. If your account was created in another region, please comment out the fifth line of the cell by adding a `#` to the front of that line. Then remove the `#` from the line corresponding to the IOM host information for your region.\n",
        "\n",
        "If you don't know your ODA region, log in [here](https://welcome.oda.sas.com/) and check what region is listed in the upper right, just left of your account name.\n",
        "\n",
        "Once you run the cell, you will need to enter your ODA account log-in information."
      ]
    },
    {
      "cell_type": "code",
      "metadata": {
        "id": "qwZGY5cwDO1N"
      },
      "source": [
        "import saspy\n",
        "sas = saspy.SASsession(\n",
        "    java='/usr/bin/java',\n",
        "    #United States Home Region\n",
        "    iomhost=['odaws01-usw2.oda.sas.com','odaws02-usw2.oda.sas.com','odaws03-usw2.oda.sas.com', 'odaws04-usw2.oda.sas.com'],\n",
        "    #European Home Region\n",
        "    #iomhost=['odaws01-euw1.oda.sas.com','odaws02-euw1.oda.sas.com'],\n",
        "    #Asia Pacific Home Region\n",
        "    #iomhost=['odaws01-apse1.oda.sas.com','odaws02-apse1.oda.sas.com'],\n",
        "    iomport=8591,\n",
        "    encoding='utf-8'\n",
        ")\n",
        "sas"
      ],
      "execution_count": null,
      "outputs": []
    },
    {
      "cell_type": "markdown",
      "metadata": {
        "id": "lYBAO3ZdNg1h"
      },
      "source": [
        "### Now we can run SAS code on ODA, using Python on Colab!"
      ]
    },
    {
      "cell_type": "code",
      "metadata": {
        "id": "ZaQk2AQvDVVL"
      },
      "source": [
        "sas.submitLST(\"ods text='Hello, SAS ODA!';\")"
      ],
      "execution_count": null,
      "outputs": []
    }
  ]
}